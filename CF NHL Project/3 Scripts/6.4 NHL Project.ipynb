{
 "cells": [
  {
   "cell_type": "markdown",
   "id": "7da8535e",
   "metadata": {},
   "source": [
    "# Import libraries"
   ]
  },
  {
   "cell_type": "code",
   "execution_count": 1,
   "id": "8624d632",
   "metadata": {},
   "outputs": [],
   "source": [
    "#Import libraries\n",
    "import pandas as pd\n",
    "import numpy as np\n",
    "import os\n",
    "import matplotlib.pyplot as plt\n",
    "import matplotlib\n",
    "import seaborn as sns\n",
    "import sklearn\n",
    "from sklearn.model_selection import train_test_split \n",
    "from sklearn.linear_model import LinearRegression\n",
    "from sklearn.metrics import mean_squared_error, r2_score"
   ]
  },
  {
   "cell_type": "code",
   "execution_count": 2,
   "id": "e839facf",
   "metadata": {},
   "outputs": [],
   "source": [
    "path = r'D:\\CF NHL Project\\2 Data'"
   ]
  },
  {
   "cell_type": "code",
   "execution_count": 3,
   "id": "84087b83",
   "metadata": {},
   "outputs": [],
   "source": [
    "game_player_stats = pd.read_csv(os.path.join(path, 'Prepared Data', 'game_team_stats_updated.csv'), index_col = False)"
   ]
  },
  {
   "cell_type": "code",
   "execution_count": 6,
   "id": "a1620e75",
   "metadata": {
    "scrolled": true
   },
   "outputs": [
    {
     "data": {
      "text/html": [
       "<div>\n",
       "<style scoped>\n",
       "    .dataframe tbody tr th:only-of-type {\n",
       "        vertical-align: middle;\n",
       "    }\n",
       "\n",
       "    .dataframe tbody tr th {\n",
       "        vertical-align: top;\n",
       "    }\n",
       "\n",
       "    .dataframe thead th {\n",
       "        text-align: right;\n",
       "    }\n",
       "</style>\n",
       "<table border=\"1\" class=\"dataframe\">\n",
       "  <thead>\n",
       "    <tr style=\"text-align: right;\">\n",
       "      <th></th>\n",
       "      <th>game_id</th>\n",
       "      <th>season</th>\n",
       "      <th>date_time_GMT</th>\n",
       "      <th>away_team_id</th>\n",
       "      <th>home_team_id</th>\n",
       "      <th>away_goals</th>\n",
       "      <th>home_goals</th>\n",
       "      <th>outcome</th>\n",
       "      <th>venue</th>\n",
       "      <th>venue_time_zone_id</th>\n",
       "      <th>...</th>\n",
       "      <th>team_goals</th>\n",
       "      <th>team_shots</th>\n",
       "      <th>team_hits</th>\n",
       "      <th>team_pim</th>\n",
       "      <th>powerPlayOpportunities</th>\n",
       "      <th>team_powerPlayGoals</th>\n",
       "      <th>faceOffWinPercentage</th>\n",
       "      <th>team_giveaways</th>\n",
       "      <th>team_takeaways</th>\n",
       "      <th>team_blocked</th>\n",
       "    </tr>\n",
       "  </thead>\n",
       "  <tbody>\n",
       "    <tr>\n",
       "      <th>0</th>\n",
       "      <td>2016020045</td>\n",
       "      <td>20162017</td>\n",
       "      <td>2016-10-19T00:30:00Z</td>\n",
       "      <td>4</td>\n",
       "      <td>16</td>\n",
       "      <td>4</td>\n",
       "      <td>7</td>\n",
       "      <td>home win REG</td>\n",
       "      <td>United Center</td>\n",
       "      <td>America/Chicago</td>\n",
       "      <td>...</td>\n",
       "      <td>7</td>\n",
       "      <td>28</td>\n",
       "      <td>20.0</td>\n",
       "      <td>8</td>\n",
       "      <td>3</td>\n",
       "      <td>2</td>\n",
       "      <td>49.1</td>\n",
       "      <td>16.0</td>\n",
       "      <td>8.0</td>\n",
       "      <td>9.0</td>\n",
       "    </tr>\n",
       "    <tr>\n",
       "      <th>1</th>\n",
       "      <td>2016020045</td>\n",
       "      <td>20162017</td>\n",
       "      <td>2016-10-19T00:30:00Z</td>\n",
       "      <td>4</td>\n",
       "      <td>16</td>\n",
       "      <td>4</td>\n",
       "      <td>7</td>\n",
       "      <td>home win REG</td>\n",
       "      <td>United Center</td>\n",
       "      <td>America/Chicago</td>\n",
       "      <td>...</td>\n",
       "      <td>7</td>\n",
       "      <td>28</td>\n",
       "      <td>20.0</td>\n",
       "      <td>8</td>\n",
       "      <td>3</td>\n",
       "      <td>2</td>\n",
       "      <td>49.1</td>\n",
       "      <td>16.0</td>\n",
       "      <td>8.0</td>\n",
       "      <td>9.0</td>\n",
       "    </tr>\n",
       "    <tr>\n",
       "      <th>2</th>\n",
       "      <td>2016020045</td>\n",
       "      <td>20162017</td>\n",
       "      <td>2016-10-19T00:30:00Z</td>\n",
       "      <td>4</td>\n",
       "      <td>16</td>\n",
       "      <td>4</td>\n",
       "      <td>7</td>\n",
       "      <td>home win REG</td>\n",
       "      <td>United Center</td>\n",
       "      <td>America/Chicago</td>\n",
       "      <td>...</td>\n",
       "      <td>7</td>\n",
       "      <td>28</td>\n",
       "      <td>20.0</td>\n",
       "      <td>8</td>\n",
       "      <td>3</td>\n",
       "      <td>2</td>\n",
       "      <td>49.1</td>\n",
       "      <td>16.0</td>\n",
       "      <td>8.0</td>\n",
       "      <td>9.0</td>\n",
       "    </tr>\n",
       "    <tr>\n",
       "      <th>3</th>\n",
       "      <td>2016020045</td>\n",
       "      <td>20162017</td>\n",
       "      <td>2016-10-19T00:30:00Z</td>\n",
       "      <td>4</td>\n",
       "      <td>16</td>\n",
       "      <td>4</td>\n",
       "      <td>7</td>\n",
       "      <td>home win REG</td>\n",
       "      <td>United Center</td>\n",
       "      <td>America/Chicago</td>\n",
       "      <td>...</td>\n",
       "      <td>7</td>\n",
       "      <td>28</td>\n",
       "      <td>20.0</td>\n",
       "      <td>8</td>\n",
       "      <td>3</td>\n",
       "      <td>2</td>\n",
       "      <td>49.1</td>\n",
       "      <td>16.0</td>\n",
       "      <td>8.0</td>\n",
       "      <td>9.0</td>\n",
       "    </tr>\n",
       "    <tr>\n",
       "      <th>4</th>\n",
       "      <td>2016020045</td>\n",
       "      <td>20162017</td>\n",
       "      <td>2016-10-19T00:30:00Z</td>\n",
       "      <td>4</td>\n",
       "      <td>16</td>\n",
       "      <td>4</td>\n",
       "      <td>7</td>\n",
       "      <td>home win REG</td>\n",
       "      <td>United Center</td>\n",
       "      <td>America/Chicago</td>\n",
       "      <td>...</td>\n",
       "      <td>7</td>\n",
       "      <td>28</td>\n",
       "      <td>20.0</td>\n",
       "      <td>8</td>\n",
       "      <td>3</td>\n",
       "      <td>2</td>\n",
       "      <td>49.1</td>\n",
       "      <td>16.0</td>\n",
       "      <td>8.0</td>\n",
       "      <td>9.0</td>\n",
       "    </tr>\n",
       "  </tbody>\n",
       "</table>\n",
       "<p>5 rows × 61 columns</p>\n",
       "</div>"
      ],
      "text/plain": [
       "      game_id    season         date_time_GMT  away_team_id  home_team_id  \\\n",
       "0  2016020045  20162017  2016-10-19T00:30:00Z             4            16   \n",
       "1  2016020045  20162017  2016-10-19T00:30:00Z             4            16   \n",
       "2  2016020045  20162017  2016-10-19T00:30:00Z             4            16   \n",
       "3  2016020045  20162017  2016-10-19T00:30:00Z             4            16   \n",
       "4  2016020045  20162017  2016-10-19T00:30:00Z             4            16   \n",
       "\n",
       "   away_goals  home_goals       outcome          venue venue_time_zone_id  \\\n",
       "0           4           7  home win REG  United Center    America/Chicago   \n",
       "1           4           7  home win REG  United Center    America/Chicago   \n",
       "2           4           7  home win REG  United Center    America/Chicago   \n",
       "3           4           7  home win REG  United Center    America/Chicago   \n",
       "4           4           7  home win REG  United Center    America/Chicago   \n",
       "\n",
       "   ... team_goals  team_shots team_hits team_pim powerPlayOpportunities  \\\n",
       "0  ...          7          28      20.0        8                      3   \n",
       "1  ...          7          28      20.0        8                      3   \n",
       "2  ...          7          28      20.0        8                      3   \n",
       "3  ...          7          28      20.0        8                      3   \n",
       "4  ...          7          28      20.0        8                      3   \n",
       "\n",
       "  team_powerPlayGoals faceOffWinPercentage team_giveaways team_takeaways  \\\n",
       "0                   2                 49.1           16.0            8.0   \n",
       "1                   2                 49.1           16.0            8.0   \n",
       "2                   2                 49.1           16.0            8.0   \n",
       "3                   2                 49.1           16.0            8.0   \n",
       "4                   2                 49.1           16.0            8.0   \n",
       "\n",
       "   team_blocked  \n",
       "0           9.0  \n",
       "1           9.0  \n",
       "2           9.0  \n",
       "3           9.0  \n",
       "4           9.0  \n",
       "\n",
       "[5 rows x 61 columns]"
      ]
     },
     "execution_count": 6,
     "metadata": {},
     "output_type": "execute_result"
    }
   ],
   "source": [
    "game_player_stats.head()"
   ]
  },
  {
   "cell_type": "code",
   "execution_count": 5,
   "id": "74932c0b",
   "metadata": {},
   "outputs": [],
   "source": [
    "# Removing rink side data\n",
    "game_player_stats = game_player_stats.drop(columns = ['Unnamed: 0'])"
   ]
  },
  {
   "cell_type": "code",
   "execution_count": 7,
   "id": "2244867a",
   "metadata": {},
   "outputs": [],
   "source": [
    "#Enable visuals\n",
    "%matplotlib inline"
   ]
  },
  {
   "cell_type": "code",
   "execution_count": 8,
   "id": "2016a0e8",
   "metadata": {},
   "outputs": [
    {
     "data": {
      "text/plain": [
       "Index(['game_id', 'season', 'date_time_GMT', 'away_team_id', 'home_team_id',\n",
       "       'away_goals', 'home_goals', 'outcome', 'venue', 'venue_time_zone_id',\n",
       "       'venue_time_zone_tz', 'player_id', 'firstName', 'lastName',\n",
       "       'nationality', 'birthCity', 'primaryPosition', 'birthDate', 'height',\n",
       "       'height_cm', 'weight', 'side_shot_from', 'team_id', 'timeOnIce',\n",
       "       'assists', 'goals', 'shots', 'hits', 'powerPlayGoals',\n",
       "       'powerPlayAssists', 'penaltyMinutes', 'faceOffWins', 'faceoffTaken',\n",
       "       'takeaways', 'giveaways', 'shortHandedGoals', 'shortHandedAssists',\n",
       "       'blocked', 'plusMinus', 'evenTimeOnIce', 'shortHandedTimeOnIce',\n",
       "       'powerPlayTimeOnIce', 'franchiseId', 'team_location', 'teamName',\n",
       "       'state_province', 'abbreviation', 'home_or_away', 'won', 'settled_in',\n",
       "       'head_coach', 'team_goals', 'team_shots', 'team_hits', 'team_pim',\n",
       "       'powerPlayOpportunities', 'team_powerPlayGoals', 'faceOffWinPercentage',\n",
       "       'team_giveaways', 'team_takeaways', 'team_blocked'],\n",
       "      dtype='object')"
      ]
     },
     "execution_count": 8,
     "metadata": {},
     "output_type": "execute_result"
    }
   ],
   "source": [
    "game_player_stats.columns"
   ]
  },
  {
   "cell_type": "code",
   "execution_count": 9,
   "id": "69f870ae",
   "metadata": {},
   "outputs": [],
   "source": [
    "#making variable subset\n",
    "game_player_sub = game_player_stats[['team_location', 'teamName', 'state_province', 'won', 'team_goals', 'team_shots', 'team_hits', 'team_pim', 'team_giveaways', 'team_takeaways', 'team_blocked']]"
   ]
  },
  {
   "cell_type": "code",
   "execution_count": 10,
   "id": "f1fa265c",
   "metadata": {},
   "outputs": [
    {
     "data": {
      "text/html": [
       "<div>\n",
       "<style scoped>\n",
       "    .dataframe tbody tr th:only-of-type {\n",
       "        vertical-align: middle;\n",
       "    }\n",
       "\n",
       "    .dataframe tbody tr th {\n",
       "        vertical-align: top;\n",
       "    }\n",
       "\n",
       "    .dataframe thead th {\n",
       "        text-align: right;\n",
       "    }\n",
       "</style>\n",
       "<table border=\"1\" class=\"dataframe\">\n",
       "  <thead>\n",
       "    <tr style=\"text-align: right;\">\n",
       "      <th></th>\n",
       "      <th>team_location</th>\n",
       "      <th>teamName</th>\n",
       "      <th>state_province</th>\n",
       "      <th>won</th>\n",
       "      <th>team_goals</th>\n",
       "      <th>team_shots</th>\n",
       "      <th>team_hits</th>\n",
       "      <th>team_pim</th>\n",
       "      <th>team_giveaways</th>\n",
       "      <th>team_takeaways</th>\n",
       "      <th>team_blocked</th>\n",
       "    </tr>\n",
       "  </thead>\n",
       "  <tbody>\n",
       "    <tr>\n",
       "      <th>0</th>\n",
       "      <td>Chicago</td>\n",
       "      <td>Blackhawks</td>\n",
       "      <td>Illinois</td>\n",
       "      <td>True</td>\n",
       "      <td>7</td>\n",
       "      <td>28</td>\n",
       "      <td>20.0</td>\n",
       "      <td>8</td>\n",
       "      <td>16.0</td>\n",
       "      <td>8.0</td>\n",
       "      <td>9.0</td>\n",
       "    </tr>\n",
       "    <tr>\n",
       "      <th>1</th>\n",
       "      <td>Chicago</td>\n",
       "      <td>Blackhawks</td>\n",
       "      <td>Illinois</td>\n",
       "      <td>True</td>\n",
       "      <td>7</td>\n",
       "      <td>28</td>\n",
       "      <td>20.0</td>\n",
       "      <td>8</td>\n",
       "      <td>16.0</td>\n",
       "      <td>8.0</td>\n",
       "      <td>9.0</td>\n",
       "    </tr>\n",
       "    <tr>\n",
       "      <th>2</th>\n",
       "      <td>Chicago</td>\n",
       "      <td>Blackhawks</td>\n",
       "      <td>Illinois</td>\n",
       "      <td>True</td>\n",
       "      <td>7</td>\n",
       "      <td>28</td>\n",
       "      <td>20.0</td>\n",
       "      <td>8</td>\n",
       "      <td>16.0</td>\n",
       "      <td>8.0</td>\n",
       "      <td>9.0</td>\n",
       "    </tr>\n",
       "    <tr>\n",
       "      <th>3</th>\n",
       "      <td>Chicago</td>\n",
       "      <td>Blackhawks</td>\n",
       "      <td>Illinois</td>\n",
       "      <td>True</td>\n",
       "      <td>7</td>\n",
       "      <td>28</td>\n",
       "      <td>20.0</td>\n",
       "      <td>8</td>\n",
       "      <td>16.0</td>\n",
       "      <td>8.0</td>\n",
       "      <td>9.0</td>\n",
       "    </tr>\n",
       "    <tr>\n",
       "      <th>4</th>\n",
       "      <td>Chicago</td>\n",
       "      <td>Blackhawks</td>\n",
       "      <td>Illinois</td>\n",
       "      <td>True</td>\n",
       "      <td>7</td>\n",
       "      <td>28</td>\n",
       "      <td>20.0</td>\n",
       "      <td>8</td>\n",
       "      <td>16.0</td>\n",
       "      <td>8.0</td>\n",
       "      <td>9.0</td>\n",
       "    </tr>\n",
       "  </tbody>\n",
       "</table>\n",
       "</div>"
      ],
      "text/plain": [
       "  team_location    teamName state_province   won  team_goals  team_shots  \\\n",
       "0       Chicago  Blackhawks       Illinois  True           7          28   \n",
       "1       Chicago  Blackhawks       Illinois  True           7          28   \n",
       "2       Chicago  Blackhawks       Illinois  True           7          28   \n",
       "3       Chicago  Blackhawks       Illinois  True           7          28   \n",
       "4       Chicago  Blackhawks       Illinois  True           7          28   \n",
       "\n",
       "   team_hits  team_pim  team_giveaways  team_takeaways  team_blocked  \n",
       "0       20.0         8            16.0             8.0           9.0  \n",
       "1       20.0         8            16.0             8.0           9.0  \n",
       "2       20.0         8            16.0             8.0           9.0  \n",
       "3       20.0         8            16.0             8.0           9.0  \n",
       "4       20.0         8            16.0             8.0           9.0  "
      ]
     },
     "execution_count": 10,
     "metadata": {},
     "output_type": "execute_result"
    }
   ],
   "source": [
    "game_player_sub.head()"
   ]
  },
  {
   "cell_type": "code",
   "execution_count": 11,
   "id": "e828da4c",
   "metadata": {},
   "outputs": [
    {
     "data": {
      "text/plain": [
       "(853314, 11)"
      ]
     },
     "execution_count": 11,
     "metadata": {},
     "output_type": "execute_result"
    }
   ],
   "source": [
    "game_player_sub.shape"
   ]
  },
  {
   "cell_type": "markdown",
   "id": "db7af27a",
   "metadata": {},
   "source": [
    "### Data cleaning"
   ]
  },
  {
   "cell_type": "code",
   "execution_count": 12,
   "id": "1f83cbd4",
   "metadata": {},
   "outputs": [],
   "source": [
    "game_player_sub_nodup = game_player_sub.drop_duplicates()"
   ]
  },
  {
   "cell_type": "code",
   "execution_count": 13,
   "id": "a6f70069",
   "metadata": {},
   "outputs": [
    {
     "data": {
      "text/plain": [
       "(47319, 11)"
      ]
     },
     "execution_count": 13,
     "metadata": {},
     "output_type": "execute_result"
    }
   ],
   "source": [
    "game_player_sub_nodup.shape"
   ]
  },
  {
   "cell_type": "code",
   "execution_count": 14,
   "id": "1d9f68d7",
   "metadata": {
    "scrolled": true
   },
   "outputs": [
    {
     "data": {
      "text/plain": [
       "team_location     0\n",
       "teamName          0\n",
       "state_province    0\n",
       "won               0\n",
       "team_goals        0\n",
       "team_shots        0\n",
       "team_hits         0\n",
       "team_pim          0\n",
       "team_giveaways    0\n",
       "team_takeaways    0\n",
       "team_blocked      0\n",
       "dtype: int64"
      ]
     },
     "execution_count": 14,
     "metadata": {},
     "output_type": "execute_result"
    }
   ],
   "source": [
    "game_player_sub_nodup.isnull().sum()"
   ]
  },
  {
   "cell_type": "code",
   "execution_count": 15,
   "id": "f91f8e32",
   "metadata": {},
   "outputs": [
    {
     "data": {
      "text/html": [
       "<div>\n",
       "<style scoped>\n",
       "    .dataframe tbody tr th:only-of-type {\n",
       "        vertical-align: middle;\n",
       "    }\n",
       "\n",
       "    .dataframe tbody tr th {\n",
       "        vertical-align: top;\n",
       "    }\n",
       "\n",
       "    .dataframe thead th {\n",
       "        text-align: right;\n",
       "    }\n",
       "</style>\n",
       "<table border=\"1\" class=\"dataframe\">\n",
       "  <thead>\n",
       "    <tr style=\"text-align: right;\">\n",
       "      <th></th>\n",
       "      <th>team_location</th>\n",
       "      <th>teamName</th>\n",
       "      <th>state_province</th>\n",
       "      <th>won</th>\n",
       "      <th>team_goals</th>\n",
       "      <th>team_shots</th>\n",
       "      <th>team_hits</th>\n",
       "      <th>team_pim</th>\n",
       "      <th>team_giveaways</th>\n",
       "      <th>team_takeaways</th>\n",
       "      <th>team_blocked</th>\n",
       "    </tr>\n",
       "  </thead>\n",
       "  <tbody>\n",
       "    <tr>\n",
       "      <th>0</th>\n",
       "      <td>Chicago</td>\n",
       "      <td>Blackhawks</td>\n",
       "      <td>Illinois</td>\n",
       "      <td>True</td>\n",
       "      <td>7</td>\n",
       "      <td>28</td>\n",
       "      <td>20.0</td>\n",
       "      <td>8</td>\n",
       "      <td>16.0</td>\n",
       "      <td>8.0</td>\n",
       "      <td>9.0</td>\n",
       "    </tr>\n",
       "    <tr>\n",
       "      <th>18</th>\n",
       "      <td>Philadelphia</td>\n",
       "      <td>Flyers</td>\n",
       "      <td>Pennsylvania</td>\n",
       "      <td>False</td>\n",
       "      <td>4</td>\n",
       "      <td>27</td>\n",
       "      <td>30.0</td>\n",
       "      <td>6</td>\n",
       "      <td>12.0</td>\n",
       "      <td>9.0</td>\n",
       "      <td>11.0</td>\n",
       "    </tr>\n",
       "    <tr>\n",
       "      <th>36</th>\n",
       "      <td>Buffalo</td>\n",
       "      <td>Sabres</td>\n",
       "      <td>New York</td>\n",
       "      <td>False</td>\n",
       "      <td>3</td>\n",
       "      <td>33</td>\n",
       "      <td>17.0</td>\n",
       "      <td>8</td>\n",
       "      <td>5.0</td>\n",
       "      <td>6.0</td>\n",
       "      <td>14.0</td>\n",
       "    </tr>\n",
       "    <tr>\n",
       "      <th>54</th>\n",
       "      <td>Anaheim</td>\n",
       "      <td>Ducks</td>\n",
       "      <td>California</td>\n",
       "      <td>True</td>\n",
       "      <td>4</td>\n",
       "      <td>34</td>\n",
       "      <td>16.0</td>\n",
       "      <td>6</td>\n",
       "      <td>7.0</td>\n",
       "      <td>4.0</td>\n",
       "      <td>14.0</td>\n",
       "    </tr>\n",
       "    <tr>\n",
       "      <th>72</th>\n",
       "      <td>Colorado</td>\n",
       "      <td>Avalanche</td>\n",
       "      <td>Colorado</td>\n",
       "      <td>True</td>\n",
       "      <td>4</td>\n",
       "      <td>29</td>\n",
       "      <td>17.0</td>\n",
       "      <td>9</td>\n",
       "      <td>13.0</td>\n",
       "      <td>5.0</td>\n",
       "      <td>20.0</td>\n",
       "    </tr>\n",
       "  </tbody>\n",
       "</table>\n",
       "</div>"
      ],
      "text/plain": [
       "   team_location    teamName state_province    won  team_goals  team_shots  \\\n",
       "0        Chicago  Blackhawks       Illinois   True           7          28   \n",
       "18  Philadelphia      Flyers   Pennsylvania  False           4          27   \n",
       "36       Buffalo      Sabres       New York  False           3          33   \n",
       "54       Anaheim       Ducks     California   True           4          34   \n",
       "72      Colorado   Avalanche       Colorado   True           4          29   \n",
       "\n",
       "    team_hits  team_pim  team_giveaways  team_takeaways  team_blocked  \n",
       "0        20.0         8            16.0             8.0           9.0  \n",
       "18       30.0         6            12.0             9.0          11.0  \n",
       "36       17.0         8             5.0             6.0          14.0  \n",
       "54       16.0         6             7.0             4.0          14.0  \n",
       "72       17.0         9            13.0             5.0          20.0  "
      ]
     },
     "execution_count": 15,
     "metadata": {},
     "output_type": "execute_result"
    }
   ],
   "source": [
    "game_player_sub_nodup.head()"
   ]
  },
  {
   "cell_type": "markdown",
   "id": "062c445b",
   "metadata": {},
   "source": [
    "## Checking extremes"
   ]
  },
  {
   "cell_type": "code",
   "execution_count": 21,
   "id": "feab3d5f",
   "metadata": {},
   "outputs": [
    {
     "data": {
      "image/png": "[encoded data removed]",
      "text/plain": [
       "<Figure size 640x480 with 1 Axes>"
      ]
     },
     "metadata": {},
     "output_type": "display_data"
    }
   ],
   "source": [
    "#Created a histogram for extreme values for team_shots\n",
    "hist_price = sns.histplot(game_player_sub_nodup['team_shots'], bins = 20, kde = True)"
   ]
  },
  {
   "cell_type": "code",
   "execution_count": 26,
   "id": "3b6e008d",
   "metadata": {},
   "outputs": [
    {
     "data": {
      "image/png": "[encoded data removed]",
      "text/plain": [
       "<Figure size 640x480 with 1 Axes>"
      ]
     },
     "metadata": {},
     "output_type": "display_data"
    }
   ],
   "source": [
    "#Created a histogram for extreme values for blocked shots\n",
    "hist_price = sns.histplot(game_player_sub_nodup['team_blocked'], bins = 20, kde = True)"
   ]
  },
  {
   "cell_type": "markdown",
   "id": "7ff00c43",
   "metadata": {},
   "source": [
    "## Regression prep"
   ]
  },
  {
   "cell_type": "code",
   "execution_count": 27,
   "id": "4b506e27",
   "metadata": {},
   "outputs": [
    {
     "data": {
      "image/png": "[encoded data removed]",
      "text/plain": [
       "<Figure size 640x480 with 1 Axes>"
      ]
     },
     "metadata": {},
     "output_type": "display_data"
    }
   ],
   "source": [
    "# Create a scatterplot using matplotlib for another look at how the chosen variables plot against each other.\n",
    "\n",
    "game_player_sub_nodup.plot(x = 'team_shots', y='team_goals',style='o') # The style option creates a scatterplot; without it, we only have lines.\n",
    "plt.title('Number of shots vs Goals')  \n",
    "plt.xlabel('Team shots')  \n",
    "plt.ylabel('Team goals')  \n",
    "plt.show()"
   ]
  },
  {
   "cell_type": "code",
   "execution_count": 28,
   "id": "0f3fbaed",
   "metadata": {},
   "outputs": [
    {
     "data": {
      "image/png": "[encoded data removed]",
      "text/plain": [
       "<Figure size 640x480 with 1 Axes>"
      ]
     },
     "metadata": {},
     "output_type": "display_data"
    }
   ],
   "source": [
    "# Create a scatterplot using matplotlib for another look at how the chosen variables plot against each other.\n",
    "\n",
    "game_player_sub_nodup.plot(x = 'team_blocked', y='team_goals',style='o') # The style option creates a scatterplot; without it, we only have lines.\n",
    "plt.title('Number of shots block vs Goals')  \n",
    "plt.xlabel('Blocked shots')  \n",
    "plt.ylabel('Team goals')  \n",
    "plt.show()"
   ]
  },
  {
   "cell_type": "code",
   "execution_count": 35,
   "id": "0493e842",
   "metadata": {},
   "outputs": [],
   "source": [
    "# Reshape the variables into NumPy arrays and put them into separate objects.\n",
    "\n",
    "X = game_player_sub_nodup['team_shots'].values.reshape(-1,1)\n",
    "y = game_player_sub_nodup['team_goals'].values.reshape(-1,1)"
   ]
  },
  {
   "cell_type": "code",
   "execution_count": 30,
   "id": "a0d9d2f6",
   "metadata": {},
   "outputs": [
    {
     "data": {
      "text/plain": [
       "array([[28],\n",
       "       [27],\n",
       "       [33],\n",
       "       ...,\n",
       "       [32],\n",
       "       [20],\n",
       "       [33]], dtype=int64)"
      ]
     },
     "execution_count": 30,
     "metadata": {},
     "output_type": "execute_result"
    }
   ],
   "source": [
    "X"
   ]
  },
  {
   "cell_type": "code",
   "execution_count": 36,
   "id": "9ea196b9",
   "metadata": {},
   "outputs": [
    {
     "data": {
      "text/plain": [
       "array([[7],\n",
       "       [4],\n",
       "       [3],\n",
       "       ...,\n",
       "       [5],\n",
       "       [4],\n",
       "       [1]], dtype=int64)"
      ]
     },
     "execution_count": 36,
     "metadata": {},
     "output_type": "execute_result"
    }
   ],
   "source": [
    "y"
   ]
  },
  {
   "cell_type": "code",
   "execution_count": 37,
   "id": "13ef6f28",
   "metadata": {},
   "outputs": [],
   "source": [
    "# Split data into a training set and a test set.\n",
    "\n",
    "X_train, X_test, y_train, y_test = train_test_split(X, y, test_size=0.3, random_state=0)"
   ]
  },
  {
   "cell_type": "markdown",
   "id": "a3c5e2e1",
   "metadata": {},
   "source": [
    "### Regression analysis"
   ]
  },
  {
   "cell_type": "code",
   "execution_count": 38,
   "id": "30c51406",
   "metadata": {},
   "outputs": [],
   "source": [
    "# Create a regression object.\n",
    "\n",
    "regression = LinearRegression()  # This is the regression object, which will be fit onto the training set."
   ]
  },
  {
   "cell_type": "code",
   "execution_count": 39,
   "id": "5b5111cf",
   "metadata": {},
   "outputs": [
    {
     "data": {
      "text/html": [
       "<style>#sk-container-id-1 {color: black;background-color: white;}#sk-container-id-1 pre{padding: 0;}#sk-container-id-1 div.sk-toggleable {background-color: white;}#sk-container-id-1 label.sk-toggleable__label {cursor: pointer;display: block;width: 100%;margin-bottom: 0;padding: 0.3em;box-sizing: border-box;text-align: center;}#sk-container-id-1 label.sk-toggleable__label-arrow:before {content: \"▸\";float: left;margin-right: 0.25em;color: #696969;}#sk-container-id-1 label.sk-toggleable__label-arrow:hover:before {color: black;}#sk-container-id-1 div.sk-estimator:hover label.sk-toggleable__label-arrow:before {color: black;}#sk-container-id-1 div.sk-toggleable__content {max-height: 0;max-width: 0;overflow: hidden;text-align: left;background-color: #f0f8ff;}#sk-container-id-1 div.sk-toggleable__content pre {margin: 0.2em;color: black;border-radius: 0.25em;background-color: #f0f8ff;}#sk-container-id-1 input.sk-toggleable__control:checked~div.sk-toggleable__content {max-height: 200px;max-width: 100%;overflow: auto;}#sk-container-id-1 input.sk-toggleable__control:checked~label.sk-toggleable__label-arrow:before {content: \"▾\";}#sk-container-id-1 div.sk-estimator input.sk-toggleable__control:checked~label.sk-toggleable__label {background-color: #d4ebff;}#sk-container-id-1 div.sk-label input.sk-toggleable__control:checked~label.sk-toggleable__label {background-color: #d4ebff;}#sk-container-id-1 input.sk-hidden--visually {border: 0;clip: rect(1px 1px 1px 1px);clip: rect(1px, 1px, 1px, 1px);height: 1px;margin: -1px;overflow: hidden;padding: 0;position: absolute;width: 1px;}#sk-container-id-1 div.sk-estimator {font-family: monospace;background-color: #f0f8ff;border: 1px dotted black;border-radius: 0.25em;box-sizing: border-box;margin-bottom: 0.5em;}#sk-container-id-1 div.sk-estimator:hover {background-color: #d4ebff;}#sk-container-id-1 div.sk-parallel-item::after {content: \"\";width: 100%;border-bottom: 1px solid gray;flex-grow: 1;}#sk-container-id-1 div.sk-label:hover label.sk-toggleable__label {background-color: #d4ebff;}#sk-container-id-1 div.sk-serial::before {content: \"\";position: absolute;border-left: 1px solid gray;box-sizing: border-box;top: 0;bottom: 0;left: 50%;z-index: 0;}#sk-container-id-1 div.sk-serial {display: flex;flex-direction: column;align-items: center;background-color: white;padding-right: 0.2em;padding-left: 0.2em;position: relative;}#sk-container-id-1 div.sk-item {position: relative;z-index: 1;}#sk-container-id-1 div.sk-parallel {display: flex;align-items: stretch;justify-content: center;background-color: white;position: relative;}#sk-container-id-1 div.sk-item::before, #sk-container-id-1 div.sk-parallel-item::before {content: \"\";position: absolute;border-left: 1px solid gray;box-sizing: border-box;top: 0;bottom: 0;left: 50%;z-index: -1;}#sk-container-id-1 div.sk-parallel-item {display: flex;flex-direction: column;z-index: 1;position: relative;background-color: white;}#sk-container-id-1 div.sk-parallel-item:first-child::after {align-self: flex-end;width: 50%;}#sk-container-id-1 div.sk-parallel-item:last-child::after {align-self: flex-start;width: 50%;}#sk-container-id-1 div.sk-parallel-item:only-child::after {width: 0;}#sk-container-id-1 div.sk-dashed-wrapped {border: 1px dashed gray;margin: 0 0.4em 0.5em 0.4em;box-sizing: border-box;padding-bottom: 0.4em;background-color: white;}#sk-container-id-1 div.sk-label label {font-family: monospace;font-weight: bold;display: inline-block;line-height: 1.2em;}#sk-container-id-1 div.sk-label-container {text-align: center;}#sk-container-id-1 div.sk-container {/* jupyter's `normalize.less` sets `[hidden] { display: none; }` but bootstrap.min.css set `[hidden] { display: none !important; }` so we also need the `!important` here to be able to override the default hidden behavior on the sphinx rendered scikit-learn.org. See: https://github.com/scikit-learn/scikit-learn/issues/21755 */display: inline-block !important;position: relative;}#sk-container-id-1 div.sk-text-repr-fallback {display: none;}</style><div id=\"sk-container-id-1\" class=\"sk-top-container\"><div class=\"sk-text-repr-fallback\"><pre>LinearRegression()</pre><b>In a Jupyter environment, please rerun this cell to show the HTML representation or trust the notebook. <br />On GitHub, the HTML representation is unable to render, please try loading this page with nbviewer.org.</b></div><div class=\"sk-container\" hidden><div class=\"sk-item\"><div class=\"sk-estimator sk-toggleable\"><input class=\"sk-toggleable__control sk-hidden--visually\" id=\"sk-estimator-id-1\" type=\"checkbox\" checked><label for=\"sk-estimator-id-1\" class=\"sk-toggleable__label sk-toggleable__label-arrow\">LinearRegression</label><div class=\"sk-toggleable__content\"><pre>LinearRegression()</pre></div></div></div></div></div>"
      ],
      "text/plain": [
       "LinearRegression()"
      ]
     },
     "execution_count": 39,
     "metadata": {},
     "output_type": "execute_result"
    }
   ],
   "source": [
    "# Fit the regression object onto the training set.\n",
    "\n",
    "regression.fit(X_train, y_train)"
   ]
  },
  {
   "cell_type": "code",
   "execution_count": 40,
   "id": "80a67a2b",
   "metadata": {},
   "outputs": [],
   "source": [
    "# Predict the values of y using X.\n",
    "\n",
    "y_predicted = regression.predict(X_test)"
   ]
  },
  {
   "cell_type": "code",
   "execution_count": 41,
   "id": "eadb34b8",
   "metadata": {},
   "outputs": [
    {
     "data": {
      "image/png": "[encoded data removed]",
      "text/plain": [
       "<Figure size 640x480 with 1 Axes>"
      ]
     },
     "metadata": {},
     "output_type": "display_data"
    }
   ],
   "source": [
    "# Create a plot that shows the regression line from the model on the test set.\n",
    "\n",
    "plot_test = plt\n",
    "plot_test.scatter(X_test, y_test, s = 15)\n",
    "plot_test.plot(X_test, y_predicted, color='red', linewidth =3)\n",
    "plot_test.title('Shots on Goal vs Number of Goals (Test set)')\n",
    "plot_test.xlabel('Shots on Goal')\n",
    "plot_test.ylabel('Number of Goals')\n",
    "plot_test.show()"
   ]
  },
  {
   "cell_type": "code",
   "execution_count": 42,
   "id": "c2c2fd1e",
   "metadata": {},
   "outputs": [],
   "source": [
    "# Create objects that contain the model summary statistics.\n",
    "\n",
    "rmse = mean_squared_error(y_test, y_predicted) # This is the mean squared error\n",
    "r2 = r2_score(y_test, y_predicted) # This is the R2 score."
   ]
  },
  {
   "cell_type": "code",
   "execution_count": 43,
   "id": "d24f23cc",
   "metadata": {},
   "outputs": [
    {
     "name": "stdout",
     "output_type": "stream",
     "text": [
      "Slope: [[0.03606849]]\n",
      "Mean squared error:  2.5974839834936936\n",
      "R2 score:  0.02310533811041804\n"
     ]
    }
   ],
   "source": [
    "# Printed the model summary statistics. This is where you evaluate the performance of the model.\n",
    "\n",
    "print('Slope:' ,regression.coef_)\n",
    "print('Mean squared error: ', rmse)\n",
    "print('R2 score: ', r2)"
   ]
  },
  {
   "cell_type": "code",
   "execution_count": 44,
   "id": "388090f2",
   "metadata": {},
   "outputs": [
    {
     "data": {
      "text/html": [
       "<div>\n",
       "<style scoped>\n",
       "    .dataframe tbody tr th:only-of-type {\n",
       "        vertical-align: middle;\n",
       "    }\n",
       "\n",
       "    .dataframe tbody tr th {\n",
       "        vertical-align: top;\n",
       "    }\n",
       "\n",
       "    .dataframe thead th {\n",
       "        text-align: right;\n",
       "    }\n",
       "</style>\n",
       "<table border=\"1\" class=\"dataframe\">\n",
       "  <thead>\n",
       "    <tr style=\"text-align: right;\">\n",
       "      <th></th>\n",
       "      <th>Actual</th>\n",
       "      <th>Predicted</th>\n",
       "    </tr>\n",
       "  </thead>\n",
       "  <tbody>\n",
       "    <tr>\n",
       "      <th>0</th>\n",
       "      <td>3</td>\n",
       "      <td>2.736660</td>\n",
       "    </tr>\n",
       "    <tr>\n",
       "      <th>1</th>\n",
       "      <td>5</td>\n",
       "      <td>2.520250</td>\n",
       "    </tr>\n",
       "    <tr>\n",
       "      <th>2</th>\n",
       "      <td>3</td>\n",
       "      <td>2.917003</td>\n",
       "    </tr>\n",
       "    <tr>\n",
       "      <th>3</th>\n",
       "      <td>2</td>\n",
       "      <td>3.169482</td>\n",
       "    </tr>\n",
       "    <tr>\n",
       "      <th>4</th>\n",
       "      <td>5</td>\n",
       "      <td>3.061277</td>\n",
       "    </tr>\n",
       "    <tr>\n",
       "      <th>5</th>\n",
       "      <td>2</td>\n",
       "      <td>2.700592</td>\n",
       "    </tr>\n",
       "    <tr>\n",
       "      <th>6</th>\n",
       "      <td>3</td>\n",
       "      <td>2.844866</td>\n",
       "    </tr>\n",
       "    <tr>\n",
       "      <th>7</th>\n",
       "      <td>3</td>\n",
       "      <td>2.700592</td>\n",
       "    </tr>\n",
       "    <tr>\n",
       "      <th>8</th>\n",
       "      <td>3</td>\n",
       "      <td>3.025208</td>\n",
       "    </tr>\n",
       "    <tr>\n",
       "      <th>9</th>\n",
       "      <td>2</td>\n",
       "      <td>2.664523</td>\n",
       "    </tr>\n",
       "    <tr>\n",
       "      <th>10</th>\n",
       "      <td>1</td>\n",
       "      <td>3.133414</td>\n",
       "    </tr>\n",
       "    <tr>\n",
       "      <th>11</th>\n",
       "      <td>2</td>\n",
       "      <td>2.844866</td>\n",
       "    </tr>\n",
       "    <tr>\n",
       "      <th>12</th>\n",
       "      <td>1</td>\n",
       "      <td>2.484181</td>\n",
       "    </tr>\n",
       "    <tr>\n",
       "      <th>13</th>\n",
       "      <td>1</td>\n",
       "      <td>2.844866</td>\n",
       "    </tr>\n",
       "    <tr>\n",
       "      <th>14</th>\n",
       "      <td>4</td>\n",
       "      <td>2.772729</td>\n",
       "    </tr>\n",
       "    <tr>\n",
       "      <th>15</th>\n",
       "      <td>3</td>\n",
       "      <td>2.592386</td>\n",
       "    </tr>\n",
       "    <tr>\n",
       "      <th>16</th>\n",
       "      <td>4</td>\n",
       "      <td>2.989140</td>\n",
       "    </tr>\n",
       "    <tr>\n",
       "      <th>17</th>\n",
       "      <td>3</td>\n",
       "      <td>2.917003</td>\n",
       "    </tr>\n",
       "    <tr>\n",
       "      <th>18</th>\n",
       "      <td>6</td>\n",
       "      <td>3.205551</td>\n",
       "    </tr>\n",
       "    <tr>\n",
       "      <th>19</th>\n",
       "      <td>0</td>\n",
       "      <td>2.556318</td>\n",
       "    </tr>\n",
       "    <tr>\n",
       "      <th>20</th>\n",
       "      <td>5</td>\n",
       "      <td>2.700592</td>\n",
       "    </tr>\n",
       "    <tr>\n",
       "      <th>21</th>\n",
       "      <td>1</td>\n",
       "      <td>3.169482</td>\n",
       "    </tr>\n",
       "    <tr>\n",
       "      <th>22</th>\n",
       "      <td>2</td>\n",
       "      <td>2.808797</td>\n",
       "    </tr>\n",
       "    <tr>\n",
       "      <th>23</th>\n",
       "      <td>1</td>\n",
       "      <td>2.989140</td>\n",
       "    </tr>\n",
       "    <tr>\n",
       "      <th>24</th>\n",
       "      <td>1</td>\n",
       "      <td>2.664523</td>\n",
       "    </tr>\n",
       "    <tr>\n",
       "      <th>25</th>\n",
       "      <td>3</td>\n",
       "      <td>2.808797</td>\n",
       "    </tr>\n",
       "    <tr>\n",
       "      <th>26</th>\n",
       "      <td>2</td>\n",
       "      <td>2.736660</td>\n",
       "    </tr>\n",
       "    <tr>\n",
       "      <th>27</th>\n",
       "      <td>3</td>\n",
       "      <td>3.025208</td>\n",
       "    </tr>\n",
       "    <tr>\n",
       "      <th>28</th>\n",
       "      <td>1</td>\n",
       "      <td>2.448113</td>\n",
       "    </tr>\n",
       "    <tr>\n",
       "      <th>29</th>\n",
       "      <td>3</td>\n",
       "      <td>2.700592</td>\n",
       "    </tr>\n",
       "  </tbody>\n",
       "</table>\n",
       "</div>"
      ],
      "text/plain": [
       "    Actual  Predicted\n",
       "0        3   2.736660\n",
       "1        5   2.520250\n",
       "2        3   2.917003\n",
       "3        2   3.169482\n",
       "4        5   3.061277\n",
       "5        2   2.700592\n",
       "6        3   2.844866\n",
       "7        3   2.700592\n",
       "8        3   3.025208\n",
       "9        2   2.664523\n",
       "10       1   3.133414\n",
       "11       2   2.844866\n",
       "12       1   2.484181\n",
       "13       1   2.844866\n",
       "14       4   2.772729\n",
       "15       3   2.592386\n",
       "16       4   2.989140\n",
       "17       3   2.917003\n",
       "18       6   3.205551\n",
       "19       0   2.556318\n",
       "20       5   2.700592\n",
       "21       1   3.169482\n",
       "22       2   2.808797\n",
       "23       1   2.989140\n",
       "24       1   2.664523\n",
       "25       3   2.808797\n",
       "26       2   2.736660\n",
       "27       3   3.025208\n",
       "28       1   2.448113\n",
       "29       3   2.700592"
      ]
     },
     "execution_count": 44,
     "metadata": {},
     "output_type": "execute_result"
    }
   ],
   "source": [
    "# Created a dataframe comparing the actual and predicted values of y.\n",
    "\n",
    "data = pd.DataFrame({'Actual': y_test.flatten(), 'Predicted': y_predicted.flatten()})\n",
    "data.head(30)"
   ]
  },
  {
   "cell_type": "code",
   "execution_count": 45,
   "id": "143aec1c",
   "metadata": {},
   "outputs": [],
   "source": [
    "# Predicted\n",
    "\n",
    "y_predicted_train = regression.predict(X_train) # This is predicting X_train!"
   ]
  },
  {
   "cell_type": "code",
   "execution_count": 46,
   "id": "dd37896f",
   "metadata": {},
   "outputs": [],
   "source": [
    "rmse = mean_squared_error(y_train, y_predicted_train)\n",
    "r2 = r2_score(y_train, y_predicted_train)"
   ]
  },
  {
   "cell_type": "code",
   "execution_count": 47,
   "id": "da74eef5",
   "metadata": {},
   "outputs": [
    {
     "name": "stdout",
     "output_type": "stream",
     "text": [
      "Slope: [[0.03606849]]\n",
      "Mean squared error:  2.6828851109857728\n",
      "R2 score:  0.02225423177635444\n"
     ]
    }
   ],
   "source": [
    "print('Slope:' ,regression.coef_)\n",
    "print('Mean squared error: ', rmse)\n",
    "print('R2 score: ', r2)"
   ]
  },
  {
   "cell_type": "code",
   "execution_count": 48,
   "id": "555df2e1",
   "metadata": {},
   "outputs": [
    {
     "data": {
      "image/png": "[encoded data removed]",
      "text/plain": [
       "<Figure size 640x480 with 1 Axes>"
      ]
     },
     "metadata": {},
     "output_type": "display_data"
    }
   ],
   "source": [
    "# Visualized the training set results.\n",
    "\n",
    "plot_test = plt\n",
    "plot_test.scatter(X_train, y_train, s = 15)\n",
    "plot_test.plot(X_train, y_predicted_train, color='red', linewidth =3)\n",
    "plot_test.title('Shots on Goal vs Number of Goals (Train Set))')\n",
    "plot_test.xlabel('Shots on Goal')\n",
    "plot_test.ylabel('Number of Goals')\n",
    "plot_test.show()"
   ]
  },
  {
   "cell_type": "markdown",
   "id": "b5e22128",
   "metadata": {},
   "source": [
    "## Conclusion"
   ]
  },
  {
   "cell_type": "markdown",
   "id": "0fd967f0",
   "metadata": {},
   "source": [
    "Based on the slope, there is a positive relationship with shots and goals. That is about the only good part for this. While the MSE is only 2.59 in the test and 2.68 in the train because it's dealing with smaller numbers with the goals, it's actually a large number given how small goals are so I would say that it's telling me regression might not be the best fit. This is further shown with the r-squared value being at 2% in most the models. Overall regression for these stats is not a good fit. "
   ]
  },
  {
   "cell_type": "code",
   "execution_count": null,
   "id": "6ae0b4aa",
   "metadata": {},
   "outputs": [],
   "source": []
  }
 ],
 "metadata": {
  "kernelspec": {
   "display_name": "Python 3 (ipykernel)",
   "language": "python",
   "name": "python3"
  },
  "language_info": {
   "codemirror_mode": {
    "name": "ipython",
    "version": 3
   },
   "file_extension": ".py",
   "mimetype": "text/x-python",
   "name": "python",
   "nbconvert_exporter": "python",
   "pygments_lexer": "ipython3",
   "version": "3.11.3"
  }
 },
 "nbformat": 4,
 "nbformat_minor": 5
}
